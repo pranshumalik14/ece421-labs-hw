{
  "nbformat": 4,
  "nbformat_minor": 0,
  "metadata": {
    "colab": {
      "name": "lab2.ipynb",
      "provenance": [],
      "collapsed_sections": [],
      "mount_file_id": "1yAohXBUxBSMcoMJD6jAZ4wnN7GDJ869G",
      "authorship_tag": "ABX9TyN0HaRTG1qHK2mCTF54xdP4",
      "include_colab_link": true
    },
    "kernelspec": {
      "name": "python3",
      "display_name": "Python 3"
    },
    "language_info": {
      "name": "python"
    },
    "accelerator": "GPU"
  },
  "cells": [
    {
      "cell_type": "markdown",
      "metadata": {
        "id": "view-in-github",
        "colab_type": "text"
      },
      "source": [
        "<a href=\"https://colab.research.google.com/github/pranshumalik14/ece421-labs-hw/blob/main/labs/lab2/lab2.ipynb\" target=\"_parent\"><img src=\"https://colab.research.google.com/assets/colab-badge.svg\" alt=\"Open In Colab\"/></a>"
      ]
    },
    {
      "cell_type": "markdown",
      "source": [
        "# Lab 2: Neural Networks\n",
        "\n",
        "In this lab, we will be creating a neural network from scratch using NumPy."
      ],
      "metadata": {
        "id": "YtLiBTx7KvEY"
      }
    },
    {
      "cell_type": "markdown",
      "source": [
        "## 1. Neural Networks using Numpy\n",
        "\n",
        "We will consider the usual (but limited) defintion of a neural network as a sequence of fully-connected (or dense) layers consisting of nodes with independent activations, except for possibly the output layer where we may have require a multiclass probability distribution as the output or some similarly inferrable vector; we will exclusively consider this case in the lab to classify the `notMNIST` dataset across all 10 alphabets.\n",
        "\n",
        "We will begin by defining classes for the three central components of any neural network:\n",
        "\n",
        "1.   Layers which are assumed to be linear here and are characterized by the number of nodes\n",
        "2.   Activation functions that produce the output at any particular layer\n",
        "3.   Output loss Function that is minimized using gradient descent"
      ],
      "metadata": {
        "id": "NBl4puliM4oc"
      }
    },
    {
      "cell_type": "markdown",
      "source": [
        "### 1.1 Helper Functions, Network Definitions, and Initialization"
      ],
      "metadata": {
        "id": "jGWsXc7S6reh"
      }
    },
    {
      "cell_type": "code",
      "source": [
        "import numpy as np\n",
        "import matplotlib.pyplot as plt"
      ],
      "metadata": {
        "id": "Gff6Ah1DL3Oy"
      },
      "execution_count": 2,
      "outputs": []
    },
    {
      "cell_type": "markdown",
      "source": [
        "We first start with defining the activation functions along with their derivatives, which we will later be able to use in our neural networks during gradient descent (the learning phase)."
      ],
      "metadata": {
        "id": "_P4168HVCneW"
      }
    },
    {
      "cell_type": "code",
      "source": [
        "# activation functions\n",
        "class ReLU:\n",
        "    # relu = max(x, 0)    \n",
        "    @staticmethod\n",
        "    def __call__(x):\n",
        "        return np.maximum(x, 0)\n",
        "    # derivative of relu\n",
        "    @staticmethod\n",
        "    def prime(x):\n",
        "        return np.where(x > 0.0, 1.0, 0.0)\n",
        "\n",
        "class Softmax:\n",
        "    # softmax = exp(xi)/sum(exp(xj)), applied row-wise to match data\n",
        "    @staticmethod\n",
        "    def __call__(x):\n",
        "        # subtract maximum for numerical stability\n",
        "        # while keeping the relative differences intact\n",
        "        exp = np.exp(x - x.max(axis=1, keepdims=True))\n",
        "        return exp/exp.sum(axis=1, keepdims=True)\n",
        "\n",
        "    # we can not use this method for batch processing since it \n",
        "    # returns the full Jacobian and will be incompatible with\n",
        "    # element-wise products\n",
        "    @staticmethod\n",
        "    def prime(x): # x should be a vector, flat\n",
        "        assert len(x) == 1 or len(x.T) == 1\n",
        "        s = Softmax()(x)\n",
        "        return np.diag(s) - np.outer(s, s)\n",
        "\n",
        "# just as an extension of the lab\n",
        "class Sigmoid:\n",
        "    # sigmoid = 1 / (1 + exp(-x))\n",
        "    @staticmethod\n",
        "    def __call__(x):\n",
        "        return 1/(1 + np.exp(-x))\n",
        "    # derivative of sigmoid\n",
        "    @staticmethod\n",
        "    def prime(x):\n",
        "        sigmoid = Sigmoid()(x)\n",
        "        return sigmoid*(1 - sigmoid)"
      ],
      "metadata": {
        "id": "nFjDwg6nCukr"
      },
      "execution_count": 3,
      "outputs": []
    },
    {
      "cell_type": "markdown",
      "source": [
        "Now, we define the `Network` class that will be used to define an arbitrary network with dense (fully-connected) layers. The class definition and functionality will expand as we progress through each section. We begin with defining the functions that create the network structure, model parameters, their initialization, and the forward pass through the network.\n",
        "\n",
        "Particularly, in our implementation, we consider the layers ranging from $0\\le l\\le L$ where layer $L$ denotes the output layer and $0$ denotes the input layer. The weights weight $w^{(l)}_{i,j}$ along an edge connecting node $i$ in layer $l-1$ to node $j$ in layer $l$ is considered to be a part of the weight matrix $\\mathbf{W}^{(l)}$ in the conventional row-column indexing. We utilize the Xavier scheme to initialize the weights, where specifically \n",
        "$$w^{(l)}_{i,j} \\sim \\mathcal{N}\\left(0, \\frac{1}{\\frac{n_{\\text{in}} + n_{\\text{out}}}{2}}\\right) \\quad \\text{ for } 1\\le l\\le L,$$\n",
        "where $n_{\\text{in}}$ and $n_{\\text{out}}$ are the number of nodes in the previous layer and number of nodes in the next layer (if any), respectively. Similarly, the biases $\\mathbf{b}^{(l)}$ specify the bias for the summation at each node in layer $l$, and they are initialized to zero according to the Xavier scheme."
      ],
      "metadata": {
        "id": "7CajgVMRH1BU"
      }
    },
    {
      "cell_type": "code",
      "source": [
        "class Network:\n",
        "    def __init__(self, layer_sizes, layer_activations):\n",
        "        assert len(layer_activations) == len(layer_sizes)-1\n",
        "        self.sizes   = layer_sizes\n",
        "        self.thetas  = layer_activations\n",
        "\n",
        "        # xavier init scheme\n",
        "        n_out = layer_sizes[1:] + [0]\n",
        "        n_in  = [0] + layer_sizes[:-1]\n",
        "        self.biases  = [np.zeros((1, n)) for n in layer_sizes[1:]] # row-vecs\n",
        "        self.weights = [np.random.randn(m,n)/np.sqrt((n_out[i]+n_in[i])/2) for \n",
        "                        i, (m, n) in enumerate(zip(layer_sizes[:-1], layer_sizes[1:]))]\n",
        "\n",
        "    def fwd_prop(self, X):\n",
        "        X_ell = X   # X_0 (input layer)\n",
        "        for W, b, theta in zip(self.weights, self.biases, self.thetas):\n",
        "            X_ell = theta((X_ell @ W) + b) # compute X_l, 0 < l <= L\n",
        "        return X_ell # X_L (output layer)"
      ],
      "metadata": {
        "id": "i60AbZ7kM-SE"
      },
      "execution_count": 4,
      "outputs": []
    },
    {
      "cell_type": "markdown",
      "source": [
        "We will now define the loss function that we will use to train our model, along with the accuracy model. Like lab 1, we will use the cross entropy loss since it is based on achieving the maximum likelihood estimate of all the target labels, which are assumed to be mutually exlusive, and is therefore fit for the classification task at hand. It is defined as:\n",
        "\n",
        "$$E_{\\text{in}}(\\Omega) =  -\\sum_{n=1}^N \\mathbf{y}_n\\log\\left(\\widehat{\\mathbf{p}}_n\\right)^\\top$$\n",
        "\n",
        "where the row vectors $\\widehat{\\mathbf{p}}_n$ and $\\mathbf{y}_n$ are the predicted distribution and target (one-hot) label for the $n^{\\text{th}}$ out of $N$ samples in our training dataset, and $\\Omega$ is the set of trainable model parameters (weights and biases) in our network."
      ],
      "metadata": {
        "id": "TSNVfnB7Iwdk"
      }
    },
    {
      "cell_type": "code",
      "source": [
        "# loss function\n",
        "class CrossEntropy:\n",
        "    @staticmethod\n",
        "    def __call__(p_hat, ys):\n",
        "        return -np.sum(ys*np.log(p_hat))\n",
        "\n",
        "    # derivative with respect to input (prediction distributions)\n",
        "    @staticmethod\n",
        "    def derivative(p_hat, ys):\n",
        "        return -ys/p_hat\n",
        "\n",
        "    # gradient with respect to s^(3), the input to softmax layer\n",
        "    @staticmethod\n",
        "    def grad_softmaxlogits(logits, ys):\n",
        "        return Softmax()(logits) - ys # p_hat - ys"
      ],
      "metadata": {
        "id": "z28ycr7EPLEB"
      },
      "execution_count": 5,
      "outputs": []
    },
    {
      "cell_type": "markdown",
      "source": [
        "The `accuracy` function is defined below to compute the mean number of misclassifications, giving us an idea of how likely it is for the network to arrive at an incorrect label."
      ],
      "metadata": {
        "id": "9EDfOQALziwh"
      }
    },
    {
      "cell_type": "code",
      "source": [
        "# accuracy of prediction\n",
        "def accuracy(p_hat, ys):\n",
        "    return np.mean(np.argmax(ys, axis=1) == np.argmax(p_hat, axis=1))"
      ],
      "metadata": {
        "id": "4a5RHYFSzh67"
      },
      "execution_count": 6,
      "outputs": []
    },
    {
      "cell_type": "markdown",
      "source": [
        "We will run a forward pass on an untrained, newly initialized, network and test for its accuracy to make sure our implementation is functional thus far. We source the data from section 1.3 just for this purpose."
      ],
      "metadata": {
        "id": "SaSIXe7x41F3"
      }
    },
    {
      "cell_type": "code",
      "source": [
        "# create neural network\n",
        "F, H, K = 784, 1000, 10\n",
        "nn = Network([F, H, K], [ReLU(), Softmax()])\n",
        "\n",
        "# forward pass, loss, and accuracy on random init\n",
        "p_hat    = nn.fwd_prop(X_train)\n",
        "accur    = accuracy(p_hat, ys_train)\n",
        "avg_loss = CrossEntropy()(p_hat, ys_train)/X_train.shape[0]\n",
        "print(\"Loss = {}, Accuracy = {}\".format(avg_loss, accur))"
      ],
      "metadata": {
        "colab": {
          "base_uri": "https://localhost:8080/"
        },
        "id": "NC9XcHR45IcX",
        "outputId": "e1f17ec4-aa22-423a-fa3b-ff84d47b44c7"
      },
      "execution_count": 13,
      "outputs": [
        {
          "output_type": "stream",
          "name": "stdout",
          "text": [
            "Loss = 2.5505140785532827, Accuracy = 0.0908\n"
          ]
        }
      ]
    },
    {
      "cell_type": "markdown",
      "source": [
        "### 1.2 Backpropagation Derivation\n",
        "\n",
        "We implement and use the backpropagation algorithm to be able to efficiently perform gradient descent to minimize the loss.\n",
        "\n",
        "Particularly, we will be considering a 3-layer network as defined above in section 1.1. We explicitly derive the gradient of the loss function with respect to the model parameters, to be able to update them. The four gradients we need to compute are: $\\frac{\\partial E_{\\text{in}}}{\\partial \\mathbf{W}^{(2)}}$, $\\frac{\\partial E_{\\text{in}}}{\\partial \\mathbf{b}^{(2)}}$, $\\frac{\\partial E_{\\text{in}}}{\\partial \\mathbf{W}^{(1)}}$, and $\\frac{\\partial E_{\\text{in}}}{\\partial \\mathbf{b}^{(1)}}$.\n",
        "\n",
        "Before we start, we have some preliminaries:\n",
        "* At each layer, $\\mathbf{s}_n^{(l)}, \\mathbf{x}_n^{(l)}\\in \\mathbb{R}^{d^{(l)}}$ are the (pre-activation) summation and the activation output vectors. The vector $\\mathbf{x}^{(0)}\\in\\mathbb{R}^{d^{(0)}}$ is the input feature vector, i.e. a flattened image in our case. The summation is given by $\\mathbf{s}_n^{(l)} = \\mathbf{W}^{(l)\\top}\\mathbf{x}^{(l-1)}_n + \\mathbf{b}^{(l)}$ and the corresponding layer activation is $\\mathbf{x}_n^{(l)} = \\boldsymbol{\\theta}^{(l)}(\\mathbf{s}^{(l)})$, where $\\boldsymbol{\\theta}^{(l)}$ is the layer activation function, which in our case be almost exclusively be a scalar-valued function that is applied element-wise to the input vector.\n",
        "* The derivative of the (single-sample) loss function with respect to the summation at a particular layer, i.e. $\\frac{\\partial e_n}{\\partial \\mathbf{s}^{(l)}}$, is denoted as $\\delta_n^{(l)}$. In the batch-sample case, it is simply a matrix with the respective dimensions to consider each input data vector.\n",
        "* The backpropagation gradient rule for $1 \\le l < L$ (considering the single vector sample case) is $\\delta^{(l)}_n = \\mathbf{W}^{(l+1)}\\delta^{(l+1)}_n \\odot \\boldsymbol{\\theta}^{(l)\\prime}(\\mathbf{s}^{(l)}) \\in \\mathbb{R}^{d^{(l)}}$ for any $n^{\\text{th}}$ sample in the dataset, where $\\boldsymbol{\\theta}^{(l)\\prime}$ is the derivative of the (scalar) activation function with respect to its input which is the summation at that layer, $\\odot$ is the element-wise product, and the gradient of the sample loss with respect to the weights at layer $l$ is given by $\\frac{\\partial e_n}{\\partial w_{i,j}^{(l)}} = x_{n, i}^{(l-1)}\\delta_{n, j}^{(l)}$.\n",
        "* Note that we calculate $\\boldsymbol{\\delta}^{(L=2)}$ directly in our implementation of the loss function, where we have already included it as the `CrossEntropy.grad_softmaxlogits` member function that returns the derivative of cross-entropy loss (considering one-hot encoded targets) with respect to $\\mathbf{S}^{(2)}$. This can be shown to be $\\boldsymbol{\\delta}^{(2)} = \\frac{\\partial E_{\\text{in}}}{\\partial \\mathbf{S}^{(2)}} =  \\mathbf{X}^{(2)}- \\mathbf{Y} \\in \\mathbb{R}^{N\\times d^{(2)}}$.\n",
        "\n",
        "Now, we derive the gradients for each model parameter (weights/biases) matrix.\n",
        "\n",
        "* We can write $\\frac{\\partial E_{\\text{in}}}{\\partial \\mathbf{W}^{(2)}} = \\mathbf{X}^{(1)\\top}\\boldsymbol{\\delta}^{(2)} \\in \\mathbb{R}^{d^{(1)}\\times d^{(2)}}$. This is akin to the single activation input case where $\\frac{\\partial e_n}{\\partial \\mathbf{W}^{(2)}} = \\mathbf{x}_n^{(2)}\\delta^{(2)\\top}_n$. But in the batch case, $\\delta_n^{(2)}$ being a flat vector per input, multiplying this way gives us the summed version of the respective sample-loss gradients with respect to the weight matrix, which is what we desire.\n",
        "* The gradient $\\frac{\\partial E_{\\text{in}}}{\\partial \\mathbf{b}^{(2)}} = \\frac{\\partial E_{\\text{in}}}{\\partial \\mathbf{S}^{(2)}}\\frac{\\partial \\mathbf{S}^{(2)}}{\\partial \\mathbf{b}^{(2)}} = \\mathbf{1}^{\\top}\\boldsymbol{\\delta}^{(2)} \\in \\mathbb{R}^{1\\times d^{(2)}}$, where recall that $\\mathbf{S}^{(2)} = \\mathbf{X}^{(1)\\top}\\mathbf{W}^{(2)}+ \\mathbf{b}^{(2)}$. Particularly, we can notice that $\\boldsymbol{\\delta}^{(2)} \\in \\mathbb{R}^{N\\times d^{(2)}}$ contains the bias derivatives per sample in each row for which this multiplication with ones that are transposed has a summing effect. This may also be written as $\\sum_{n=1}^{N}\\delta_n^{(2)}$, where simply reduce the matrix to a vector by a row-wise sum denoting the total gradient across all (independent) samples.\n",
        "* We get $\\frac{\\partial E_{\\text{in}}}{\\partial \\mathbf{W}^{(1)}} = \\mathbf{X}^{(0)\\top}\\boldsymbol{\\delta}^{(1)} \\in \\mathbb{R}^{d^{(0)}\\times d^{(1)}}$, where $\\boldsymbol{\\delta}^{(1)} = \\boldsymbol{\\delta}^{(2)} \\mathbf{W}^{(2)\\top} \\odot \\boldsymbol{\\theta}^\\prime(\\mathbf{S}^{(1)}) \\in \\mathbb{R}^{N\\times d^{(1)}}$, which we get while following the backpropagation rule and adhering to the dimensional constriants, such that the $\\delta^{(1)}_n$ row-vector for each summation sample $\\mathbf{s}^{(1)}_n$ can be tiled for later being accumulated over all samples while calculating the gradient with respect to weights. Therefore, a similar case can be made as $∇_{\\mathbf{W^{(2)}}}E_{\\text{in}}$ to interpret the matrix derivatives over batches.\n",
        "* And lastly $\\frac{\\partial E_{\\text{in}}}{\\partial \\mathbf{b}^{(1)}} = \\mathbf{1}^\\top\\boldsymbol{\\delta}^{(1)} \\in \\mathbb{R}^{1\\times d^{(1)}}$, which follows from the derivation for $∇_{\\mathbf{b}^{(2)}}E_{\\text{in}}$ above."
      ],
      "metadata": {
        "id": "bRSG-YED5RFh"
      }
    },
    {
      "cell_type": "code",
      "source": [
        "# due to time-availability constraints, we will constrain training to an L-layer\n",
        "# network with softmax output activation and cross entropy loss, i.e. not generic\n",
        "def multiclass_CE_back_prop(self, X, ys, loss):\n",
        "    assert isinstance(self.thetas[-1], Softmax)\n",
        "    assert isinstance(loss, CrossEntropy)\n",
        "    # also, we can not support vector activation functions (like softmax) in \n",
        "    # middle layers (and at the input)\n",
        "    for i in range(len(self.thetas)-1):\n",
        "        assert not isinstance(self.thetas[i], Softmax)\n",
        "\n",
        "    # get summations and activations\n",
        "    X_ells = [X]\n",
        "    S_ells = []\n",
        "    for W, b, theta in zip(self.weights, self.biases, self.thetas):\n",
        "        S_ell = (X_ells[-1] @ W) + b\n",
        "        X_ells.append(theta(S_ell))\n",
        "        S_ells.append(S_ell)\n",
        "    \n",
        "    # create list of gradients (intended to be used in increasing order of layers)\n",
        "    grad_biases  = len(self.biases)*[None]\n",
        "    grad_weights = len(self.weights)*[None]\n",
        "\n",
        "    # backprop:\n",
        "    # start from ell = L (the softmax output layer)\n",
        "    # delta_L = loss.derivative(X_ells[-1], ys)*self.thetas[-1].prime(S_ells[-1])\n",
        "    delta_ell = loss.grad_softmaxlogits(S_ells[-1], ys)\n",
        "    grad_biases[-1]  = delta_ell.sum(axis=0)\n",
        "    grad_weights[-1] = X_ells[-2].T @ delta_ell\n",
        "\n",
        "    # continue backwards (1 < ell < L)\n",
        "    for l in range(2, len(self.sizes)):\n",
        "        delta_ell = delta_ell @ self.weights[-l+1].T * self.thetas[-l].prime(S_ells[-l])\n",
        "        grad_biases[-l]  = delta_ell.sum(axis=0)\n",
        "        grad_weights[-l] = X_ells[-l-1].T @ delta_ell\n",
        "\n",
        "    return grad_weights, grad_biases\n",
        "\n",
        "# run batch backprop over a generic (fully-connected) network with vector-valued\n",
        "# activations too; for inspiration see: https://sgugger.github.io/a-simple-neural-net-in-numpy.html\n",
        "def back_prop(self, X, ys):\n",
        "    raise NotImplementedError # todo: for future me\n",
        "    return grad_weights, grad_biases\n",
        "\n",
        "# expand Network definition\n",
        "Network.back_prop = multiclass_CE_back_prop # todo: generic back_prop"
      ],
      "metadata": {
        "id": "ztqBfrR863pf"
      },
      "execution_count": 8,
      "outputs": []
    },
    {
      "cell_type": "markdown",
      "source": [
        "### 1.3 Learning\n",
        "\n",
        "With the backpropagation set up, we can now start training our network. Below, we load our data and tranform it (flattening and one-hot encoding) to be compatible with our formulation."
      ],
      "metadata": {
        "id": "GeXxzhsBPAaD"
      }
    },
    {
      "cell_type": "code",
      "source": [
        "# data loader and associated helper functions\n",
        "def loadDataGDrive():\n",
        "    with np.load('/content/drive/MyDrive/Colab Notebooks/notMNIST.npz') as data:\n",
        "        data, targets = data[\"images\"], data[\"labels\"]\n",
        "        \n",
        "        np.random.seed(521)\n",
        "        rand_idx = np.arange(len(data))\n",
        "        np.random.shuffle(rand_idx)\n",
        "        \n",
        "        data = data[rand_idx] / 255.0\n",
        "        targets = targets[rand_idx].astype(int)\n",
        "        \n",
        "        train_data, train_target = data[:10000], targets[:10000]\n",
        "        valid_data, valid_target = data[10000:16000], targets[10000:16000]\n",
        "        test_data, test_target = data[16000:], targets[16000:]\n",
        "        train_target, valid_target, test_target = convert_onehot(train_target, \n",
        "                                                                 valid_target, \n",
        "                                                                 test_target)\n",
        "    return train_data, valid_data, test_data, train_target, valid_target, test_target\n",
        "\n",
        "def convert_onehot(train_target, valid_target, test_target):\n",
        "    new_train = np.zeros((train_target.shape[0], 10))\n",
        "    new_valid = np.zeros((valid_target.shape[0], 10))\n",
        "    new_test = np.zeros((test_target.shape[0], 10))\n",
        "\n",
        "    for item in range(0, train_target.shape[0]):\n",
        "        new_train[item][train_target[item]] = 1\n",
        "    for item in range(0, valid_target.shape[0]):\n",
        "        new_valid[item][valid_target[item]] = 1\n",
        "    for item in range(0, test_target.shape[0]):\n",
        "        new_test[item][test_target[item]] = 1\n",
        "    return new_train, new_valid, new_test\n",
        "\n",
        "# load data\n",
        "x_train, x_valid, x_test, ys_train, ys_valid, ys_test = loadDataGDrive()"
      ],
      "metadata": {
        "id": "USALvma_PC3q"
      },
      "execution_count": 9,
      "outputs": []
    },
    {
      "cell_type": "code",
      "source": [
        "# flatten datavectors\n",
        "X_train = x_train.reshape(x_train.shape[0], -1)\n",
        "X_valid = x_valid.reshape(x_valid.shape[0], -1)\n",
        "X_test  = x_test.reshape(x_test.shape[0], -1)\n",
        "\n",
        "# data for training and testing our neural network\n",
        "Xs = np.array([X_train, X_valid, X_test], dtype=object)    # training, validation, and testing data\n",
        "Ys = np.array([ys_train, ys_valid, ys_test], dtype=object) # training, validation, and testing labels"
      ],
      "metadata": {
        "id": "4rmh5IYe9BEK"
      },
      "execution_count": 10,
      "outputs": []
    },
    {
      "cell_type": "code",
      "source": [
        "def plot_learning_history(title, loss_hist, acc_hist):\n",
        "    # loss_hist = [train_loss, valid_loss, test_loss]\n",
        "    # acc_hist  = [train_acc, valid_acc, test_acc]\n",
        "    f, ax  = plt.subplots(1, 2, figsize=(8,4))\n",
        "    labels = [\"Train\", \"Validation\", \"Test\"]\n",
        "\n",
        "    for i in range(loss_hist.shape[1]):\n",
        "        ax[0].plot(loss_hist[:, i], label=labels[i]) # plot loss history on left\n",
        "        ax[1].plot(acc_hist[:, i], label=labels[i])  # plot accuracy history on right\n",
        "    \n",
        "    # add lables and title\n",
        "    ax[0].set_xlabel(\"Epochs\")\n",
        "    ax[0].set_ylabel(\"Loss\")\n",
        "    ax[0].legend()\n",
        "    ax[1].set_xlabel(\"Epochs\")\n",
        "    ax[1].set_ylabel(\"Accuracy\")\n",
        "    ax[1].legend()\n",
        "    f.suptitle(title, fontsize=14, y=1.03)\n",
        "    return plt.tight_layout()"
      ],
      "metadata": {
        "id": "5te4wQeM-3g9"
      },
      "execution_count": 11,
      "outputs": []
    },
    {
      "cell_type": "markdown",
      "source": [
        "The gradients that are computed using backpropagation will be applied to the respective parameters with memory, i.e. there will be an influence of past gradients on current update as well. This is called momentum-based updates. Specifically, we will use the following update equations:\n",
        "\n",
        "$$\\begin{align*}\n",
        "\\boldsymbol{\\nu}_{k+1} &= \\gamma\\boldsymbol{\\nu}_{k} + \\alpha\\left(\\frac{\\partial E_{\\text{in}}}{\\partial \\mathbf{W}}\\right)_k\\\\\n",
        "\\mathbf{W}_{k+1} &= \\mathbf{W}_{k} - \\boldsymbol{\\nu}_{k+1}\n",
        "\\end{align*},$$\n",
        "\n",
        "where $\\alpha>0$ is the learning rate, $\\gamma>0$ is the momentum factor, and $k$ is the iteration or epoch number. This will be done for all the weight and bias terms independently of each other."
      ],
      "metadata": {
        "id": "UJziQPlxynnK"
      }
    },
    {
      "cell_type": "code",
      "source": [
        "def apply_gradients(self, grad_weights, grad_biases, alpha_scaling=1):\n",
        "    alpha = self.alpha/alpha_scaling\n",
        "    gamma = self.gamma\n",
        "\n",
        "    # update momemtums\n",
        "    self.bias_momentums   = [gamma*V + alpha*W for V, W in zip(self.bias_momentums, grad_biases)]\n",
        "    self.weight_momentums = [gamma*V + alpha*W for V, W in zip(self.weight_momentums, grad_weights)]\n",
        "    \n",
        "    # update weights and biases\n",
        "    self.biases  = [W - V for W, V in zip(self.biases, self.bias_momentums)]\n",
        "    self.weights = [W - V for W, V in zip(self.weights, self.weight_momentums)]\n",
        "\n",
        "# expand Network definition\n",
        "Network.apply_gradients = apply_gradients"
      ],
      "metadata": {
        "id": "fPbThi-ayrf3"
      },
      "execution_count": 12,
      "outputs": []
    },
    {
      "cell_type": "markdown",
      "source": [
        "We now write the generic training loop for our network."
      ],
      "metadata": {
        "id": "FQaLNrY7MJAk"
      }
    },
    {
      "cell_type": "code",
      "source": [
        "def train(self, Xs, Ys, loss, accuracy, epochs, alpha=0.1, gamma=0.9, initvel=1e-5):\n",
        "    # Xs = [X_train, X_valid (optional), X_test (optional)]\n",
        "    # Ys = [ys_train, ys_valid (optional), ys_test (optional)]\n",
        "    loss_hist = np.empty((0,Xs.shape[0]), float)\n",
        "    acc_hist  = np.empty((0,Xs.shape[0]), float)\n",
        "\n",
        "    # initialize momentums\n",
        "    self.alpha = alpha\n",
        "    self.gamma = gamma\n",
        "    self.bias_momentums   = [np.full((1, n), initvel) for n in self.sizes[1:]]\n",
        "    self.weight_momentums = [np.full((m, n), initvel) for m, n in \n",
        "                             zip(self.sizes[:-1], self.sizes[1:])]\n",
        "\n",
        "    for epoch in range(epochs):\n",
        "        # apply gradient descent\n",
        "        grad_weights, grad_biases = self.back_prop(Xs[0], Ys[0], loss)\n",
        "        self.apply_gradients(grad_weights, grad_biases, alpha_scaling=Xs[0].shape[0])\n",
        "\n",
        "        # compute current loss and accuracy\n",
        "        outputs   = [self.fwd_prop(Xs[i]) for i in range(Xs.shape[0])]\n",
        "        loss_hist = np.append(loss_hist, [[loss(outputs[i], Ys[i])/Xs[i].shape[0] for i in range(Xs.shape[0])]], axis=0)\n",
        "        acc_hist  = np.append(acc_hist, [[accuracy(outputs[i], Ys[i]) for i in range(Xs.shape[0])]], axis=0)\n",
        "\n",
        "        # print progress\n",
        "        if epoch % 20 == 0:\n",
        "            print(f\"Epoch {epoch} | Training Loss: {loss_hist[-1, 0]} Training Accuracy: {acc_hist[-1, 0]}\")\n",
        "\n",
        "    return self.weights, self.biases, loss_hist, acc_hist\n",
        "\n",
        "# expand Network defintion\n",
        "Network.train = train"
      ],
      "metadata": {
        "id": "BshhqOy7MMDM"
      },
      "execution_count": 14,
      "outputs": []
    },
    {
      "cell_type": "markdown",
      "source": [
        "Below, we train the requested 3-layer network and also try a 4-layer network with an extra hidden layer with `Sigmoid` activation."
      ],
      "metadata": {
        "id": "3wK00-78MaKD"
      }
    },
    {
      "cell_type": "code",
      "source": [
        "# recreate network (due to updates to class definition) and train on data\n",
        "nn = Network([F, H, K], [ReLU(), Softmax()])\n",
        "_, _, three_lyr_loss_hist, three_lyr_accuracy_hist = nn.train(Xs, Ys, CrossEntropy(), accuracy, 200)"
      ],
      "metadata": {
        "colab": {
          "base_uri": "https://localhost:8080/"
        },
        "id": "ILFIm_o9McKq",
        "outputId": "fdd9b5a5-1398-4647-cb32-dcb4dc44580c"
      },
      "execution_count": 55,
      "outputs": [
        {
          "output_type": "stream",
          "name": "stdout",
          "text": [
            "Epoch 0 | Training Loss: 2.375626022023701 Training Accuracy: 0.2665\n",
            "Epoch 20 | Training Loss: 0.4207333231947012 Training Accuracy: 0.8865\n",
            "Epoch 40 | Training Loss: 0.30412885450972155 Training Accuracy: 0.9132\n",
            "Epoch 60 | Training Loss: 0.2538062655623269 Training Accuracy: 0.9288\n",
            "Epoch 80 | Training Loss: 0.21788812767121782 Training Accuracy: 0.9398\n",
            "Epoch 100 | Training Loss: 0.1891358401826244 Training Accuracy: 0.9486\n",
            "Epoch 120 | Training Loss: 0.1647921682497029 Training Accuracy: 0.9579\n",
            "Epoch 140 | Training Loss: 0.14381952617954716 Training Accuracy: 0.9649\n",
            "Epoch 160 | Training Loss: 0.12557783392061336 Training Accuracy: 0.972\n",
            "Epoch 180 | Training Loss: 0.10972784637818538 Training Accuracy: 0.9782\n"
          ]
        }
      ]
    },
    {
      "cell_type": "code",
      "source": [
        "title = r\"Gradient Descent for 3 Layer Dense Network with $\\alpha={}$ and $\\gamma$={}\".format(0.1, 0.9)\n",
        "plot_learning_history(title, three_lyr_loss_hist, three_lyr_accuracy_hist)"
      ],
      "metadata": {
        "colab": {
          "base_uri": "https://localhost:8080/",
          "height": 317
        },
        "id": "ctwAdJ5L0jZ4",
        "outputId": "a5fc3021-2663-4990-e26c-3eb8837cbd7a"
      },
      "execution_count": 56,
      "outputs": [
        {
          "output_type": "display_data",
          "data": {
            "image/png": "[encoded data removed]",
            "text/plain": [
              "<Figure size 576x288 with 2 Axes>"
            ]
          },
          "metadata": {
            "needs_background": "light"
          }
        }
      ]
    },
    {
      "cell_type": "code",
      "source": [
        "# define a 4 layer network with an additional sigmoid layer to the previous network\n",
        "nn = Network([F, H, H, K], [ReLU(), Sigmoid(), Softmax()])\n",
        "_, _, four_lyr_loss_hist, four_lyr_accuracy_hist = nn.train(Xs, Ys, CrossEntropy(), accuracy, 200, alpha=0.05, gamma=0.90)"
      ],
      "metadata": {
        "colab": {
          "base_uri": "https://localhost:8080/"
        },
        "id": "DP41jWRCkbiN",
        "outputId": "b737982c-bd49-492f-88f1-d44c9037060f"
      },
      "execution_count": 21,
      "outputs": [
        {
          "output_type": "stream",
          "name": "stdout",
          "text": [
            "Epoch 0 | Training Loss: 2.2934281028063777 Training Accuracy: 0.1247\n",
            "Epoch 20 | Training Loss: 0.6611879141116863 Training Accuracy: 0.8468\n",
            "Epoch 40 | Training Loss: 0.4645522713631396 Training Accuracy: 0.8761\n",
            "Epoch 60 | Training Loss: 0.41121610429342925 Training Accuracy: 0.8882\n",
            "Epoch 80 | Training Loss: 0.38075533495829833 Training Accuracy: 0.8971\n",
            "Epoch 100 | Training Loss: 0.359367611759736 Training Accuracy: 0.9022\n",
            "Epoch 120 | Training Loss: 0.342132475305647 Training Accuracy: 0.9056\n",
            "Epoch 140 | Training Loss: 0.3273143933423717 Training Accuracy: 0.9098\n",
            "Epoch 160 | Training Loss: 0.31406929727906807 Training Accuracy: 0.9136\n",
            "Epoch 180 | Training Loss: 0.30190829479076947 Training Accuracy: 0.9173\n"
          ]
        }
      ]
    },
    {
      "cell_type": "code",
      "source": [
        "title = r\"Gradient Descent for 4 Layer Dense Network with $\\alpha={}$ and $\\gamma$={}\".format(0.05, 0.90)\n",
        "plot_learning_history(title, four_lyr_loss_hist, four_lyr_accuracy_hist)"
      ],
      "metadata": {
        "colab": {
          "base_uri": "https://localhost:8080/",
          "height": 317
        },
        "id": "eJCCvGI4kePi",
        "outputId": "b9f7bf3a-a961-41dc-d2ca-7558d78de329"
      },
      "execution_count": 22,
      "outputs": [
        {
          "output_type": "display_data",
          "data": {
            "image/png": "[encoded data removed]",
            "text/plain": [
              "<Figure size 576x288 with 2 Axes>"
            ]
          },
          "metadata": {
            "needs_background": "light"
          }
        }
      ]
    }
  ]
}
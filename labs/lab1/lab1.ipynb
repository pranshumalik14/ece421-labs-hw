{
  "nbformat": 4,
  "nbformat_minor": 0,
  "metadata": {
    "colab": {
      "name": "lab1.ipynb",
      "provenance": [],
      "collapsed_sections": [],
      "mount_file_id": "1A_tNKGCLmCrQZGujHuIZhwkEe1mxQJHo",
      "authorship_tag": "ABX9TyM8VO5VoC2eGRz345KcLKRQ",
      "include_colab_link": true
    },
    "kernelspec": {
      "name": "python3",
      "display_name": "Python 3"
    },
    "language_info": {
      "name": "python"
    },
    "accelerator": "GPU"
  },
  "cells": [
    {
      "cell_type": "markdown",
      "metadata": {
        "id": "view-in-github",
        "colab_type": "text"
      },
      "source": [
        "<a href=\"https://colab.research.google.com/github/pranshumalik14/ece421-labs-hw/blob/main/labs/lab1/lab1.ipynb\" target=\"_parent\"><img src=\"https://colab.research.google.com/assets/colab-badge.svg\" alt=\"Open In Colab\"/></a>"
      ]
    },
    {
      "cell_type": "markdown",
      "source": [
        "# Lab 1: Logistic Regression\n",
        "\n",
        "In this lab, we will be creating a binary classifier using Logistic Regression first implemented using Numpy and then using Tensorflow. The classifier has to be trained on the `notMNIST` dataset, and particularly classify only between the letters `C` (positive class, labelled `1`) and `J` (negative class, labelled `0`). This dataset, representing the ground truth, will be represented as $\\mathcal{D}= \\{(\\mathbf{x}_i, y_i)\\}_{i=1}^N$, where there are $N$ datavectors $\\mathbf{x}_i \\in \\mathbb{R}^d$ and labels $y_i \\in \\{0, 1\\}$."
      ],
      "metadata": {
        "id": "4nyBLeZpQvLi"
      }
    },
    {
      "cell_type": "markdown",
      "source": [
        "## 1. Logistic Regression with Numpy\n",
        "\n",
        "We use the following model for computing the probability of a datavector $\\mathbf{x}_n\\in\\mathbb{R}^d$ belonging to a particular class $y_n\\in \\{0, 1\\}$:\n",
        "\n",
        "$$\\hat{p}_\\mathbf{w}(y_n\\mid \\mathbf{x}_n) = \\sigma\\left((2y_n-1)(\\mathbf{w}^\\top\\mathbf{x}_n + b)\\right),$$\n",
        "\n",
        "given the model parameters $\\mathbf{w} \\in \\mathbb{R}^d$ (wieght) and $b \\in \\mathbb{R}$ (bias), and the logistic (or sigmoid) function $\\sigma(z) = \\frac{1}{1+e^{-z}}$.\n",
        "\n",
        "However, to simply expressions we will augment our datavectors $\\mathbf{x}_i$ with ones and accordingly increment the dimension of the weightvector, such that $\\mathbf{x}_i = \\begin{bmatrix}1 & x_1 & \\ldots & x_d\\end{bmatrix} \\in \\mathbb{R}^{d+1}$ and $\\mathbf{w} = \\begin{bmatrix}b & w_1 & \\ldots & w_d \\end{bmatrix}\\in \\mathbb{R}^{d+1}$. This will yield the (binary) label prediction probability to be:\n",
        "\n",
        "$$\\hat{p}_\\mathbf{w}(y_n\\mid \\mathbf{x}_n) = \\sigma\\left((2y_n-1)(\\mathbf{w}^\\top\\mathbf{x}_n)\\right).$$\n",
        "No changes are made to the label sequence $y_i$. Also note that the corresponding changes to function signatures were made, so the functions defined in this document (e.g. `loss` and `grad_loss`) will differ slightly from the lab handout."
      ],
      "metadata": {
        "id": "tIcxM0u-csSX"
      }
    },
    {
      "cell_type": "markdown",
      "source": [
        "### 1.1 Loss Function and Gradient \n",
        "\n",
        "We will use the regularized loss function (in-sample error) for minimization while training over the dataset:\n",
        "\n",
        "$$\\begin{align*}\n",
        "E_{\\text{in}, \\lambda}(\\mathbf{w}) &= \\lambda||\\mathbf{w}||^2 + \\frac{1}{N}\\sum_{n=1}^N -\\log\\left(\\hat{p}_\\mathbf{w}(y_n\\mid \\mathbf{x}_n)\\right)\\\\\n",
        "&= \\lambda||\\mathbf{w}||^2 + \\frac{1}{N}\\sum_{n=1}^N \\big[-I(y_n=1)\\log(\\hat{p}_\\mathbf{w}(1\\mid \\mathbf{x}_n)) -I(y_n=0)\\log(\\hat{p}_\\mathbf{w}(0\\mid \\mathbf{x}_n))\\big] \\quad \\triangleright \\text{since } y_n \\text{ only has two possibilities}\\\\\n",
        "&= \\lambda||\\mathbf{w}||^2 + \\frac{1}{N}\\sum_{n=1}^N \\big[-y_n\\log(\\hat{p}_\\mathbf{w}(1\\mid \\mathbf{x}_n)) -(1-y_n)\\log(1-\\hat{p}_\\mathbf{w}(1\\mid \\mathbf{x}_n))\\big]\\\\\n",
        "&= \\lambda||\\mathbf{w}||^2 + \\frac{1}{N}\\sum_{n=1}^N \\big[y_n\\log(1 + e^{-\\mathbf{w}^\\top\\mathbf{x}_n})) +(1-y_n)\\log(1+e^{\\mathbf{w}^\\top\\mathbf{x}_n})\\big],\n",
        "\\end{align*}\n",
        "$$\n",
        "where $\\lambda > 0$ is the regularization constant and $I(p)$ is the identifier function defined to be, $I(p) = \\begin{cases}1 & \\text{predicate } p \\text{ is true}\\\\ 0 & \\text{predicate } p \\text{ is false}\\end{cases}$\n",
        "\n",
        "The gradient of the loss function is:\n",
        "\n",
        "$$\n",
        "\\begin{align*}\n",
        "∇_{\\mathbf{w}}E_{\\text{in}, \\lambda}(\\mathbf{w}) &= ∇_{\\mathbf{w}}\\lambda||\\mathbf{w}||^2 + \\frac{1}{N}\\sum_{n=1}^N ∇_{\\mathbf{w}}\\big[-y_n\\log(\\hat{p}_\\mathbf{w}(1\\mid \\mathbf{x}_n)) -(1-y_n)\\log(1-\\hat{p}_\\mathbf{w}(1\\mid \\mathbf{x}_n))\\big]\\\\\n",
        "&=2\\lambda\\mathbf{w} + \\frac{1}{N}\\sum_{n=1}^N\\big[-y_n(1+e^{-\\mathbf{w}^\\top\\mathbf{x}_n})∇_{\\mathbf{w}}(1+e^{-\\mathbf{w}^\\top\\mathbf{x}_n})^{-1}-(1-y_n)(1+e^{\\mathbf{w}^\\top\\mathbf{x}_n})∇_{\\mathbf{w}}(1+e^{\\mathbf{w}^\\top\\mathbf{x}_n})^{-1}\\big]\\\\\n",
        "&=2\\lambda\\mathbf{w} + \\frac{1}{N}\\sum_{n=1}^N\\big[-y_n\\mathbf{x}_n\\underbrace{\\frac{e^{-\\mathbf{w}^\\top\\mathbf{x}_n}}{(1+e^{-\\mathbf{w}^\\top\\mathbf{x}_n})}}_{\\sigma(-\\mathbf{w}^\\top\\mathbf{x}_n) = 1-\\sigma(\\mathbf{w}^\\top\\mathbf{x}_n)}+(1-y_n)\\mathbf{x}_n\\underbrace{\\frac{e^{\\mathbf{w}^\\top\\mathbf{x}_n}}{(1+e^{\\mathbf{w}^\\top\\mathbf{x}_n})}}_{\\sigma(\\mathbf{w}^\\top\\mathbf{x}_n)}\\big]\\\\\n",
        "&=2\\lambda\\mathbf{w} + \\frac{1}{N}\\sum_{n=1}^N \\mathbf{x}_n\\left(\\sigma(\\mathbf{w}^\\top\\mathbf{x}_n)-y_n\\right)\\\\\n",
        "&=2\\lambda\\mathbf{w} + \\frac{1}{N}\\mathbf{X}^\\top\\left(\\boldsymbol{\\sigma}(\\mathbf{X}\\mathbf{w})-\\mathbf{y}\\right), \n",
        "\\end{align*}\n",
        "$$\n",
        "\n",
        "where $\\mathbf{X} = \\begin{bmatrix}\\mathbf{x}_1^\\top\\\\\\vdots\\\\\\mathbf{x}_N^\\top\\end{bmatrix}\\in \\mathbb{R}^{N\\times(d+1)}$ is the datamatrix, $\\mathbf{y} \\in \\{0,1\\}^{N}$ is the labelvector, and $\\boldsymbol{\\sigma}(\\cdot)$ is a vector function acting element-wise on the input vector by applying the (scalar) logistic function."
      ],
      "metadata": {
        "id": "KgmTrGuPkxCg"
      }
    },
    {
      "cell_type": "code",
      "source": [
        "import numpy as np\n",
        "import matplotlib.pyplot as plt"
      ],
      "metadata": {
        "id": "Iz52X8Wu_D4Z"
      },
      "execution_count": 100,
      "outputs": []
    },
    {
      "cell_type": "code",
      "source": [
        "sigmoid = lambda z: 1 / (1 + np.exp(-z))"
      ],
      "metadata": {
        "id": "cehSNA51nnQt"
      },
      "execution_count": 101,
      "outputs": []
    },
    {
      "cell_type": "code",
      "source": [
        "def loss(w, X, ys, reg_lambda):\n",
        "    Xw = X @ w # logits\n",
        "    logit_CE_loss = ys*np.log(1 + np.exp(-Xw)) + (1 - ys)*np.log(1 + np.exp(Xw))\n",
        "    # return regularization penalty + cross entropy loss\n",
        "    return reg_lambda*np.linalg.norm(w)**2 + logit_CE_loss.mean()"
      ],
      "metadata": {
        "id": "6B3qA2QDQ8h8"
      },
      "execution_count": 102,
      "outputs": []
    },
    {
      "cell_type": "code",
      "source": [
        "def grad_loss(w, X, ys, reg_lambda):\n",
        "    return 2*reg_lambda*w + 1/X.shape[0]*(X.T @ (sigmoid(X@w) - ys))"
      ],
      "metadata": {
        "id": "BB2nSCFZtaCQ"
      },
      "execution_count": 103,
      "outputs": []
    },
    {
      "cell_type": "markdown",
      "source": [
        "Here we also define the `accuracy` function that will evaluate the mean of the number of misclassifications, giving us a probability of $\\hat{p}_{\\mathbf{w}}(y_n\\mid\\mathbf{x}_n)$ favoring the opposite label. This will help us objectively evaluate how the loss corresponds to the performance of the linear (logistic regression) model."
      ],
      "metadata": {
        "id": "-Degb3CioOFY"
      }
    },
    {
      "cell_type": "code",
      "source": [
        "def accuracy(w, X, ys):\n",
        "    p_hat  = sigmoid(X@w)    # predicted probability for yn=1\n",
        "    ys_hat = np.round(p_hat) # corresponding predicted labels\n",
        "    return (ys_hat == ys).mean()"
      ],
      "metadata": {
        "id": "3wCJskgHp1PJ"
      },
      "execution_count": 104,
      "outputs": []
    },
    {
      "cell_type": "markdown",
      "source": [
        "### 1.2 Gradient Descent Implementation\n",
        "\n",
        "The update step is:\n",
        "\n",
        "$$\\mathbf{w}_{k+1} = \\mathbf{w}_k - ϵ\\underbrace{∇_{\\mathbf{w}}E_{\\text{in}, λ}(\\mathbf{w}_k)}_{\\texttt{grad_loss}(\\mathbf{w}_k)},$$\n",
        "\n",
        "This is batch GD, with batch size N\n",
        "\n",
        "where $ϵ > 0$ is the learning rate."
      ],
      "metadata": {
        "id": "se9KDMkrv42r"
      }
    },
    {
      "cell_type": "code",
      "source": [
        "def grad_descent(w, Xs, Ys, eps, epochs, reg_lambda, error_tol=1e-7):\n",
        "    # Xs = [X_train, X_valid, X_test (optional)]\n",
        "    # Ys = [ys_train, ys_valid, ys_test (optional)]\n",
        "    w_opt     = np.copy(w)\n",
        "    loss_hist = np.empty((0,Xs.shape[0]), float)\n",
        "    acc_hist  = np.empty((0,Xs.shape[0]), float)\n",
        "    for epoch in range(epochs):\n",
        "        grad_w = grad_loss(w, Xs[0], Ys[0], reg_lambda)\n",
        "        w_opt  = w - eps*grad_w\n",
        "        if np.linalg.norm(w-w_opt)**2 < error_tol:\n",
        "            break\n",
        "        else:\n",
        "            w = w_opt\n",
        "        loss_hist = np.append(loss_hist, [[loss(w, Xs[i], Ys[i], reg_lambda) for i in range(Xs.shape[0])]], axis=0)\n",
        "        acc_hist  = np.append(acc_hist, [[accuracy(w, Xs[i], Ys[i]) for i in range(Xs.shape[0])]], axis=0)\n",
        "    return w_opt, loss_hist, acc_hist"
      ],
      "metadata": {
        "id": "iEitGSOafDDt"
      },
      "execution_count": 105,
      "outputs": []
    },
    {
      "cell_type": "markdown",
      "source": [
        "Now we will test it on the data. The `notMNIST` dataset has images of size $28\\times 28$, thus we have $d=784$. "
      ],
      "metadata": {
        "id": "PsrzemJdfE0f"
      }
    },
    {
      "cell_type": "code",
      "source": [
        "# load data\n",
        "def loadDataGDrive():\n",
        "    with np.load('/content/drive/MyDrive/Colab Notebooks/notMNIST.npz') as dataset:\n",
        "        Data, Target = dataset['images'], dataset['labels']\n",
        "        posClass = 2\n",
        "        negClass = 9\n",
        "        dataIndx = (Target==posClass) + (Target==negClass)\n",
        "        Data = Data[dataIndx]/255.\n",
        "        Target = Target[dataIndx].reshape(-1, 1)\n",
        "        Target[Target==posClass] = 1\n",
        "        Target[Target==negClass] = 0\n",
        "        np.random.seed(421)\n",
        "        randIndx = np.arange(len(Data))\n",
        "        np.random.shuffle(randIndx)\n",
        "        Data, Target = Data[randIndx], Target[randIndx]\n",
        "        trainData, trainTarget = Data[:3500], Target[:3500]\n",
        "        validData, validTarget = Data[3500:3600], Target[3500:3600]\n",
        "        testData, testTarget = Data[3600:], Target[3600:]\n",
        "    return trainData, validData, testData, trainTarget, validTarget, testTarget\n",
        "\n",
        "x_train, x_valid, x_test, ys_train, ys_valid, ys_test = loadDataGDrive()"
      ],
      "metadata": {
        "id": "kSQHXyZX_f8R"
      },
      "execution_count": 106,
      "outputs": []
    },
    {
      "cell_type": "code",
      "source": [
        "# augment and reshape datavectors\n",
        "X_train = np.concatenate([np.ones((x_train.shape[0])).reshape(-1, 1), x_train.reshape(x_train.shape[0], -1)], axis=1)\n",
        "X_valid = np.concatenate([np.ones((x_valid.shape[0])).reshape(-1, 1), x_valid.reshape(x_valid.shape[0], -1)], axis=1)\n",
        "X_test  = np.concatenate([np.ones((x_test.shape[0])).reshape(-1, 1), x_test.reshape(x_test.shape[0], -1)], axis=1)\n",
        "\n",
        "# cast labels to float for error-free numerical calculations\n",
        "ys_train, ys_valid, ys_test = ys_train.astype(float), ys_valid.astype(float), ys_test.astype(float)"
      ],
      "metadata": {
        "id": "Npi0SUmwopC3"
      },
      "execution_count": 107,
      "outputs": []
    },
    {
      "cell_type": "code",
      "source": [
        "# run gradient descent\n",
        "Xs     = np.array([X_train, X_valid, X_test], dtype=object)    # training, validation, and testing data\n",
        "Ys     = np.array([ys_train, ys_valid, ys_test], dtype=object) # training, validation, and testing labels\n",
        "w_init = np.random.normal(0.001, 0.99, (X_train.shape[1], 1)) # initial weight vector\n",
        "w_star, loss_history, accuracy_history = grad_descent(w_init, Xs, Ys, 0.005, 5000, 0)"
      ],
      "metadata": {
        "id": "DvIkYG2RfJeA"
      },
      "execution_count": 108,
      "outputs": []
    },
    {
      "cell_type": "code",
      "source": [
        "# todo: write a function that plots loss and accuracy together in subplots.\n",
        "plt.plot(loss_history[:, 0])\n",
        "plt.plot(loss_history[:, 1])"
      ],
      "metadata": {
        "colab": {
          "base_uri": "https://localhost:8080/",
          "height": 282
        },
        "id": "ciBhN5Pjohcm",
        "outputId": "c4b0fde7-0abc-4fd5-d088-5a23fd048d9b"
      },
      "execution_count": 109,
      "outputs": [
        {
          "output_type": "execute_result",
          "data": {
            "text/plain": [
              "[<matplotlib.lines.Line2D at 0x7f18c9272d90>]"
            ]
          },
          "metadata": {},
          "execution_count": 109
        },
        {
          "output_type": "display_data",
          "data": {
            "image/png": "[encoded data removed]",
            "text/plain": [
              "<Figure size 432x288 with 1 Axes>"
            ]
          },
          "metadata": {
            "needs_background": "light"
          }
        }
      ]
    },
    {
      "cell_type": "code",
      "source": [
        "plt.plot(accuracy_history[:, 0])\n",
        "plt.plot(accuracy_history[:, 1])"
      ],
      "metadata": {
        "colab": {
          "base_uri": "https://localhost:8080/",
          "height": 282
        },
        "id": "n0PFr5pMs18h",
        "outputId": "9f577d52-8c34-4ff4-afe2-366613a3c3c2"
      },
      "execution_count": 110,
      "outputs": [
        {
          "output_type": "execute_result",
          "data": {
            "text/plain": [
              "[<matplotlib.lines.Line2D at 0x7f18c92645d0>]"
            ]
          },
          "metadata": {},
          "execution_count": 110
        },
        {
          "output_type": "display_data",
          "data": {
            "image/png": "[encoded data removed]",
            "text/plain": [
              "<Figure size 432x288 with 1 Axes>"
            ]
          },
          "metadata": {
            "needs_background": "light"
          }
        }
      ]
    },
    {
      "cell_type": "markdown",
      "source": [
        "### 1.3 Tuning the Learning Rate"
      ],
      "metadata": {
        "id": "B5kN_yGowGdp"
      }
    },
    {
      "cell_type": "markdown",
      "source": [
        "### 1.4 Generalization\n"
      ],
      "metadata": {
        "id": "Rlixb3nBwLR5"
      }
    },
    {
      "cell_type": "markdown",
      "source": [
        "## 2. Logistic Regression in TensorFlow\n"
      ],
      "metadata": {
        "id": "FS3R6sO3wVOm"
      }
    },
    {
      "cell_type": "markdown",
      "source": [
        "### 2.1 Logistic Regression Model Setup"
      ],
      "metadata": {
        "id": "2Rm7M1wbfqdq"
      }
    },
    {
      "cell_type": "code",
      "source": [
        "%tensorflow_version 2.x\n",
        "import tensorflow as tf2\n",
        "import dataclasses as data"
      ],
      "metadata": {
        "id": "775Uvl6pRTnI"
      },
      "execution_count": 111,
      "outputs": []
    },
    {
      "cell_type": "code",
      "source": [
        "def loss_tf2(w, X, ys, reg_lambda):\n",
        "    Xw = tf2.linalg.matmul(X, w) # logits\n",
        "    reg_loss = 2*reg_lambda*tf2.nn.l2_loss(w)\n",
        "    logits_CE_loss = tf2.nn.sigmoid_cross_entropy_with_logits(labels=ys, logits=Xw)\n",
        "    return reg_loss + tf2.reduce_mean(logits_CE_loss)"
      ],
      "metadata": {
        "id": "KgCBv3K0IABg"
      },
      "execution_count": 112,
      "outputs": []
    },
    {
      "cell_type": "code",
      "source": [
        "def accuracy_tf2(w, X, ys):\n",
        "    p_hat  = tf2.math.sigmoid(tf2.linalg.matmul(X, w)) # predicted probability for yn=1\n",
        "    ys_hat = tf2.round(p_hat)                          # corresponding predicted labels\n",
        "    return tf2.reduce_mean(tf2.cast(tf2.equal(ys_hat, ys), dtype=tf2.float64))"
      ],
      "metadata": {
        "id": "FwFHSzdBMW8H"
      },
      "execution_count": 113,
      "outputs": []
    },
    {
      "cell_type": "code",
      "source": [
        "@data.dataclass # for ADAM optimizer and Batch SGD\n",
        "class Options:  # initial values same as default for keras.optimizers.Adam\n",
        "    alpha: float = 0.001\n",
        "    beta1: float = 0.9\n",
        "    beta2: float = 0.999\n",
        "    epsilon: float = 1e-07\n",
        "    batchsz: int   = 500"
      ],
      "metadata": {
        "id": "u9IO6SLmrAnu"
      },
      "execution_count": 114,
      "outputs": []
    },
    {
      "cell_type": "code",
      "source": [
        "def logistic_reg_tf2(Xs, Ys, reg_lambda, options, epochs=700):\n",
        "    # Xs = [X_train, X_valid, X_test (optional)]\n",
        "    # Ys = [ys_train, ys_valid, ys_test (optional)]\n",
        "\n",
        "    # initialize the (augmented) weight vector\n",
        "    w = tf2.Variable(initial_value=tf2.random.truncated_normal([Xs[0].shape[1]-1,1], stddev=0.5, dtype=tf2.float64))\n",
        "    b = tf2.Variable(0.0, dtype=tf2.float64)\n",
        "    w = tf2.Variable(tf2.concat([[[b]], w], axis=0))\n",
        "\n",
        "    # initialize ADAM optimizer\n",
        "    alpha, beta1, beta2, epsilon, _ = data.astuple(options)\n",
        "    optimizer = tf2.keras.optimizers.Adam(learning_rate=alpha, beta_1=beta1, beta_2=beta2, epsilon=epsilon)\n",
        "\n",
        "    # train model\n",
        "    return train_logistic_reg_tf2_model(w, Xs, Ys, reg_lambda, optimizer, options, epochs)"
      ],
      "metadata": {
        "id": "AyxiMEJNdmLb"
      },
      "execution_count": 115,
      "outputs": []
    },
    {
      "cell_type": "markdown",
      "source": [
        "### 2.2 Implementing Stochastic Gradient Descent\n",
        "\n",
        "The idea in classical stochastic gradient descent procedure is:\n",
        "\n",
        "In expectation, it will follow.\n",
        "\n",
        "Although `Adam` has its own momentum-based update rules that will work on top of the gra"
      ],
      "metadata": {
        "id": "8hjWMY7efv6j"
      }
    },
    {
      "cell_type": "code",
      "source": [
        "def shuffle_data(X, ys):\n",
        "    # https://valueml.com/shuffle-the-training-data-in-tensorflow/\n",
        "    indices = tf2.range(start=0, limit=X.shape[0], dtype=tf2.int32)\n",
        "    shuffled_indices = tf2.random.shuffle(indices)\n",
        "\n",
        "    shuffled_x = tf2.gather(X, shuffled_indices)\n",
        "    shuffled_y = tf2.gather(ys, shuffled_indices)\n",
        "\n",
        "    return shuffled_x, shuffled_y"
      ],
      "metadata": {
        "id": "1vOnntyZOwbw"
      },
      "execution_count": 116,
      "outputs": []
    },
    {
      "cell_type": "code",
      "source": [
        "def train_logistic_reg_tf2_model(w, Xs, Ys, reg_lambda, optimizer, options, epochs):\n",
        "    # Xs = [X_train, X_valid, X_test (optional)]\n",
        "    # Ys = [ys_train, ys_valid, ys_test (optional)]\n",
        "    loss_hist   = np.empty((0,Xs.shape[0]), float)\n",
        "    acc_hist    = np.empty((0,Xs.shape[0]), float)\n",
        "    batch_size  = options.batchsz\n",
        "    num_batches = int(Xs[0].shape[0]/batch_size)\n",
        "    \n",
        "    # mini-batch stochastic gradient descent\n",
        "    for _ in range(epochs):\n",
        "        X_shfld, ys_shfld = shuffle_data(Xs[0], Ys[0])\n",
        "        \n",
        "        for i in range(num_batches):\n",
        "            batch_start, batch_end = i*batch_size, (i+1)*batch_size\n",
        "            mini_X, mini_ys = X_shfld[batch_start:batch_end], ys_shfld[batch_start:batch_end]\n",
        "            \n",
        "            with tf2.GradientTape() as tape:\n",
        "                tape.watch(w)\n",
        "                train_loss = loss_tf2(w, mini_X, mini_ys, reg_lambda)\n",
        "            \n",
        "            grad = tape.gradient(train_loss, w)\n",
        "            optimizer.apply_gradients([(grad, w)])\n",
        "\n",
        "        loss_hist = np.append(loss_hist, [[loss_tf2(w, Xs[i], Ys[i], reg_lambda).numpy() for i in range(Xs.shape[0])]], axis=0)\n",
        "        acc_hist  = np.append(acc_hist, [[accuracy_tf2(w, Xs[i], Ys[i]).numpy() for i in range(Xs.shape[0])]], axis=0)    \n",
        "    return w, loss_hist, acc_hist"
      ],
      "metadata": {
        "id": "v-YM6GAscwiV"
      },
      "execution_count": 117,
      "outputs": []
    },
    {
      "cell_type": "code",
      "source": [
        "Xs = np.array([X_train, X_valid, X_test], dtype=object)    # training, validation, and testing data\n",
        "Ys = np.array([ys_train, ys_valid, ys_test], dtype=object) # training, validation, and testing labels\n",
        "w_star_tf2, loss_history_tf2, accuracy_history_tf2 = logistic_reg_tf2(Xs, Ys, 0.0, Options())"
      ],
      "metadata": {
        "id": "Bh3YSB03W2FU"
      },
      "execution_count": 118,
      "outputs": []
    },
    {
      "cell_type": "code",
      "source": [
        "plt.plot(loss_history_tf2[:, 0])\n",
        "plt.plot(loss_history_tf2[:, 1])\n",
        "plt.plot(loss_history_tf2[:, 2])"
      ],
      "metadata": {
        "colab": {
          "base_uri": "https://localhost:8080/",
          "height": 284
        },
        "id": "x8KBHyyG2n7J",
        "outputId": "dee9e489-18f1-4389-f224-3ad2a8d5c4fe"
      },
      "execution_count": 121,
      "outputs": [
        {
          "output_type": "execute_result",
          "data": {
            "text/plain": [
              "[<matplotlib.lines.Line2D at 0x7f18c90c0750>]"
            ]
          },
          "metadata": {},
          "execution_count": 121
        },
        {
          "output_type": "display_data",
          "data": {
            "image/png": "[encoded data removed]",
            "text/plain": [
              "<Figure size 432x288 with 1 Axes>"
            ]
          },
          "metadata": {
            "needs_background": "light"
          }
        }
      ]
    },
    {
      "cell_type": "code",
      "source": [
        "plt.plot(accuracy_history_tf2[:, 0])\n",
        "plt.plot(accuracy_history_tf2[:, 1])\n",
        "plt.plot(accuracy_history_tf2[:, 2])"
      ],
      "metadata": {
        "colab": {
          "base_uri": "https://localhost:8080/",
          "height": 282
        },
        "id": "5mMgTWOs2q3w",
        "outputId": "4264df39-5066-411d-a0eb-f64facae7cfc"
      },
      "execution_count": 123,
      "outputs": [
        {
          "output_type": "execute_result",
          "data": {
            "text/plain": [
              "[<matplotlib.lines.Line2D at 0x7f18c8f71410>]"
            ]
          },
          "metadata": {},
          "execution_count": 123
        },
        {
          "output_type": "display_data",
          "data": {
            "image/png": "[encoded data removed]",
            "text/plain": [
              "<Figure size 432x288 with 1 Axes>"
            ]
          },
          "metadata": {
            "needs_background": "light"
          }
        }
      ]
    },
    {
      "cell_type": "markdown",
      "source": [
        "### 2.3 Batch Size Investigation\n",
        "\n",
        "The full gradient descent above in section 1.2. Now, we define a generic version, btach size B. This is the formulation. now do it in tensorflow."
      ],
      "metadata": {
        "id": "819JblhHgEWt"
      }
    },
    {
      "cell_type": "markdown",
      "source": [
        "### 2.4 Hyperparameter Investigation"
      ],
      "metadata": {
        "id": "NzT_d9I_gHr0"
      }
    },
    {
      "cell_type": "code",
      "source": [
        ""
      ],
      "metadata": {
        "id": "mKPlLfZkgMNV"
      },
      "execution_count": 120,
      "outputs": []
    },
    {
      "cell_type": "markdown",
      "source": [
        "### 2.5 Comparison against Full Gradient Descent"
      ],
      "metadata": {
        "id": "MWYaddfagM2E"
      }
    }
  ]
}